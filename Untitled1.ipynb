{
 "cells": [
  {
   "cell_type": "code",
   "execution_count": 2,
   "metadata": {
    "extensions": {
     "jupyter_dashboards": {
      "version": 1,
      "views": {
       "grid_default": {},
       "report_default": {}
      }
     }
    }
   },
   "outputs": [
    {
     "data": {
      "application/vnd.jupyter.widget-view+json": {
       "model_id": "59413c32c1f547ad8ea4f0b1dda69f1d",
       "version_major": 2,
       "version_minor": 0
      },
      "text/plain": [
       "Figure(axes=[Axis(label='Test X', scale=LinearScale(), tick_format='0.0f'), Axis(label='Test Y', orientation='…"
      ]
     },
     "metadata": {},
     "output_type": "display_data"
    }
   ],
   "source": [
    "from bqplot import *\n",
    "from IPython.display import display\n",
    "\n",
    "x_data = range(10)\n",
    "y_data = [i ** 2 for i in x_data]\n",
    "\n",
    "x_sc = LinearScale()\n",
    "y_sc = LinearScale()\n",
    "\n",
    "ax_x = Axis(label='Test X', scale=x_sc, tick_format='0.0f')\n",
    "ax_y = Axis(label='Test Y', scale=y_sc,\n",
    "            orientation='vertical', tick_format='0.2f')\n",
    "\n",
    "\n",
    "\n",
    "line = Scatter(x=x_data,\n",
    "             y=y_data,\n",
    "             scales={'x': x_sc, 'y': y_sc},\n",
    "             colors=[ 'red'],\n",
    "             enable_move=True,\n",
    "             restrict_y=True )     \n",
    "\n",
    "line2 = Lines(x=x_data,\n",
    "             y=y_data,\n",
    "             scales={'x': x_sc, 'y': y_sc},\n",
    "             colors=['red', 'yellow'])\n",
    "\n",
    "\n",
    "\n",
    "\n",
    "def foo(change):\n",
    "    pdata = [line.x,line.y]\n",
    "    print('New data:')\n",
    "    print(pdata)\n",
    "    line2.x=line.x\n",
    "    line2.y=line.y\n",
    "    \n",
    "\n",
    "    \n",
    "\n",
    "    \n",
    "    \n",
    "line.observe(foo,['y','x'])\n",
    "\n",
    "\n",
    "\n",
    "fig = Figure(axes=[ax_x, ax_y], marks=[line2,line])\n",
    "\n",
    "display(fig)"
   ]
  },
  {
   "cell_type": "raw",
   "metadata": {
    "extensions": {
     "jupyter_dashboards": {
      "version": 1,
      "views": {
       "grid_default": {},
       "report_default": {}
      }
     }
    }
   },
   "source": []
  },
  {
   "cell_type": "code",
   "execution_count": null,
   "metadata": {},
   "outputs": [],
   "source": []
  }
 ],
 "metadata": {
  "extensions": {
   "jupyter_dashboards": {
    "activeView": "grid_default",
    "version": 1,
    "views": {
     "grid_default": {
      "cellMargin": 10,
      "defaultCellHeight": 20,
      "maxColumns": 12,
      "name": "grid",
      "type": "grid"
     },
     "report_default": {
      "name": "report",
      "type": "report"
     }
    }
   }
  },
  "kernelspec": {
   "display_name": "Python 3",
   "language": "python",
   "name": "python3"
  },
  "language_info": {
   "codemirror_mode": {
    "name": "ipython",
    "version": 3
   },
   "file_extension": ".py",
   "mimetype": "text/x-python",
   "name": "python",
   "nbconvert_exporter": "python",
   "pygments_lexer": "ipython3",
   "version": "3.5.2"
  }
 },
 "nbformat": 4,
 "nbformat_minor": 2
}
